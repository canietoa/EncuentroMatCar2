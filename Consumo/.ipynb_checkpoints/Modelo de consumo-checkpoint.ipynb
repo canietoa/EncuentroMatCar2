{
 "cells": [
  {
   "cell_type": "code",
   "execution_count": 1,
   "metadata": {},
   "outputs": [],
   "source": [
    "import pandas as pd\n",
    "import numpy as np\n",
    "\n",
    "from matplotlib import pyplot as plt\n",
    "import scipy"
   ]
  },
  {
   "cell_type": "code",
   "execution_count": 2,
   "metadata": {},
   "outputs": [],
   "source": [
    "#Economia antes de la enfermedad\n",
    "w=1#salario diario\n",
    "beta=0.999#Discount factor\n",
    "days=30#periodos a simular\n",
    "I=0.01#tasa de interes (bancario)\n",
    "\n",
    "\n",
    "def Util(C):\n",
    "    ut=0\n",
    "    for m in range(len(C)):\n",
    "        ut+=(beta**m)*np.log(C[m])\n",
    "    return ut\n",
    "        \n",
    "def Fix(C):\n",
    "    Monarr = np.zeros(days)#Arreglo Ahorros\n",
    "    D=0\n",
    "    Cpar=0\n",
    "    for n in range(len(C)-1):\n",
    "        D=w+(1+I)*D-C[n]\n",
    "    Cfin=w+(1+I)*D\n",
    "    return Cfin\n",
    "\n",
    "def riq(C):\n",
    "    Monarr = np.zeros(days)#Arreglo Ahorros\n",
    "    D=0\n",
    "    Cpar=0\n",
    "    for n in range(len(C)):\n",
    "        D=w+(1+I)*D-C[n]\n",
    "        Monarr[n]=D\n",
    "    return(Monarr)\n",
    "\n"
   ]
  },
  {
   "cell_type": "code",
   "execution_count": null,
   "metadata": {},
   "outputs": [],
   "source": [
    "C = w*np.ones(days)#Arreglo salarios\n",
    "u=0\n",
    "for l in range(100000):\n",
    "    d=np.random.randint(len(C))\n",
    "    tempC=np.array(C)\n",
    "    vc=tempC[d]\n",
    "    ncd=vc+np.random.normal(0,0.01)\n",
    "    while ncd<0:\n",
    "        ncd=vc+np.random.normal(0,0.01)\n",
    "    tempC[d]=ncd\n",
    "    tempC[-1]=Fix(tempC)\n",
    "    #print(Util(tempC),Util(C))\n",
    "    if Util(tempC)>Util(C):\n",
    "        C=tempC\n",
    "        #print(\"hola\")\n"
   ]
  },
  {
   "cell_type": "code",
   "execution_count": null,
   "metadata": {},
   "outputs": [],
   "source": [
    "C"
   ]
  },
  {
   "cell_type": "code",
   "execution_count": null,
   "metadata": {},
   "outputs": [],
   "source": [
    "plt.plot(C)\n",
    "theorC=np.zeros_like(C)\n",
    "theorC[0]=C[0]\n",
    "for l in range(1,len(C)):\n",
    "    theorC[l]=beta*(1+I)*theorC[l-1]\n",
    "plt.plot(theorC)"
   ]
  },
  {
   "cell_type": "code",
   "execution_count": 13,
   "metadata": {},
   "outputs": [
    {
     "data": {
      "text/plain": [
       "0.8786072772345199"
      ]
     },
     "execution_count": 13,
     "metadata": {},
     "output_type": "execute_result"
    }
   ],
   "source": [
    "(w*(2+I)/((1+I)*(1+beta)))**29"
   ]
  },
  {
   "cell_type": "code",
   "execution_count": 14,
   "metadata": {},
   "outputs": [
    {
     "data": {
      "text/plain": [
       "[<matplotlib.lines.Line2D at 0x2855df61c88>]"
      ]
     },
     "execution_count": 14,
     "metadata": {},
     "output_type": "execute_result"
    },
    {
     "data": {
      "image/png": "[encoded data removed]",
      "text/plain": [
       "<Figure size 432x288 with 1 Axes>"
      ]
     },
     "metadata": {
      "needs_background": "light"
     },
     "output_type": "display_data"
    }
   ],
   "source": [
    "plt.plot(riq(C))"
   ]
  },
  {
   "cell_type": "code",
   "execution_count": 15,
   "metadata": {},
   "outputs": [
    {
     "data": {
      "text/plain": [
       "[<matplotlib.lines.Line2D at 0x2855dfc1470>]"
      ]
     },
     "execution_count": 15,
     "metadata": {},
     "output_type": "execute_result"
    },
    {
     "data": {
      "image/png": "[encoded data removed]",
      "text/plain": [
       "<Figure size 432x288 with 1 Axes>"
      ]
     },
     "metadata": {
      "needs_background": "light"
     },
     "output_type": "display_data"
    }
   ],
   "source": [
    "plt.plot(C)"
   ]
  },
  {
   "cell_type": "code",
   "execution_count": 9,
   "metadata": {},
   "outputs": [
    {
     "data": {
      "text/plain": [
       "array([0.88153197, 0.88946061, 0.89743391, 0.9055312 , 0.91364795,\n",
       "       0.92186962, 0.93015579, 0.93850916, 0.94695672, 0.95548588,\n",
       "       0.96407098, 0.97272507, 0.98146458, 0.99029911, 0.99919278,\n",
       "       1.00818228, 1.01724707, 1.02638441, 1.03561389, 1.04491017,\n",
       "       1.05430982, 1.06378339, 1.0733537 , 1.08298318, 1.09273778,\n",
       "       1.10256343, 1.11247579, 1.12246831, 1.13256919, 1.14274889])"
      ]
     },
     "execution_count": 9,
     "metadata": {},
     "output_type": "execute_result"
    }
   ],
   "source": [
    "C"
   ]
  },
  {
   "cell_type": "code",
   "execution_count": null,
   "metadata": {},
   "outputs": [],
   "source": []
  }
 ],
 "metadata": {
  "kernelspec": {
   "display_name": "Python 3",
   "language": "python",
   "name": "python3"
  },
  "language_info": {
   "codemirror_mode": {
    "name": "ipython",
    "version": 3
   },
   "file_extension": ".py",
   "mimetype": "text/x-python",
   "name": "python",
   "nbconvert_exporter": "python",
   "pygments_lexer": "ipython3",
   "version": "3.6.4"
  }
 },
 "nbformat": 4,
 "nbformat_minor": 2
}
